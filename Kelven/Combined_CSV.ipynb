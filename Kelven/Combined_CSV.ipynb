{
 "cells": [
  {
   "cell_type": "code",
   "execution_count": 1,
   "id": "cf5d1056",
   "metadata": {},
   "outputs": [],
   "source": [
    "import pandas as pd\n",
    "import os"
   ]
  },
  {
   "cell_type": "code",
   "execution_count": 2,
   "id": "65f13d35",
   "metadata": {
    "scrolled": true
   },
   "outputs": [
    {
     "data": {
      "text/html": [
       "<div>\n",
       "<style scoped>\n",
       "    .dataframe tbody tr th:only-of-type {\n",
       "        vertical-align: middle;\n",
       "    }\n",
       "\n",
       "    .dataframe tbody tr th {\n",
       "        vertical-align: top;\n",
       "    }\n",
       "\n",
       "    .dataframe thead th {\n",
       "        text-align: right;\n",
       "    }\n",
       "</style>\n",
       "<table border=\"1\" class=\"dataframe\">\n",
       "  <thead>\n",
       "    <tr style=\"text-align: right;\">\n",
       "      <th></th>\n",
       "      <th>Name</th>\n",
       "      <th>LATITUDE</th>\n",
       "      <th>LONGITUDE</th>\n",
       "      <th>ADDRESSPOSTALCODE</th>\n",
       "    </tr>\n",
       "  </thead>\n",
       "  <tbody>\n",
       "    <tr>\n",
       "      <th>0</th>\n",
       "      <td>Ci Yuan Hawker Centre</td>\n",
       "      <td>1.374938</td>\n",
       "      <td>103.882947</td>\n",
       "      <td>538776</td>\n",
       "    </tr>\n",
       "    <tr>\n",
       "      <th>1</th>\n",
       "      <td>West Coast Drive Blk 502 (Ayer Rajah Market)</td>\n",
       "      <td>1.311960</td>\n",
       "      <td>103.759102</td>\n",
       "      <td>120502</td>\n",
       "    </tr>\n",
       "    <tr>\n",
       "      <th>2</th>\n",
       "      <td>West Coast Drive Blk 503 (Ayer Rajah Food Centre)</td>\n",
       "      <td>1.311870</td>\n",
       "      <td>103.759804</td>\n",
       "      <td>120503</td>\n",
       "    </tr>\n",
       "    <tr>\n",
       "      <th>3</th>\n",
       "      <td>Bedok South Road Blk 16</td>\n",
       "      <td>1.320560</td>\n",
       "      <td>103.935547</td>\n",
       "      <td>460016</td>\n",
       "    </tr>\n",
       "    <tr>\n",
       "      <th>4</th>\n",
       "      <td>Pasir Ris Central Hawker Centre</td>\n",
       "      <td>1.373318</td>\n",
       "      <td>103.951364</td>\n",
       "      <td>519641</td>\n",
       "    </tr>\n",
       "  </tbody>\n",
       "</table>\n",
       "</div>"
      ],
      "text/plain": [
       "                                                Name  LATITUDE   LONGITUDE  \\\n",
       "0                              Ci Yuan Hawker Centre  1.374938  103.882947   \n",
       "1       West Coast Drive Blk 502 (Ayer Rajah Market)  1.311960  103.759102   \n",
       "2  West Coast Drive Blk 503 (Ayer Rajah Food Centre)  1.311870  103.759804   \n",
       "3                            Bedok South Road Blk 16  1.320560  103.935547   \n",
       "4                    Pasir Ris Central Hawker Centre  1.373318  103.951364   \n",
       "\n",
       "   ADDRESSPOSTALCODE  \n",
       "0             538776  \n",
       "1             120502  \n",
       "2             120503  \n",
       "3             460016  \n",
       "4             519641  "
      ]
     },
     "execution_count": 2,
     "metadata": {},
     "output_type": "execute_result"
    }
   ],
   "source": [
    "hawkercentre = pd.read_csv('hawker-centres-kml.csv')\n",
    "hawkercentre.head(5)"
   ]
  },
  {
   "cell_type": "code",
   "execution_count": 3,
   "id": "115ae082",
   "metadata": {},
   "outputs": [
    {
     "data": {
      "text/html": [
       "<div>\n",
       "<style scoped>\n",
       "    .dataframe tbody tr th:only-of-type {\n",
       "        vertical-align: middle;\n",
       "    }\n",
       "\n",
       "    .dataframe tbody tr th {\n",
       "        vertical-align: top;\n",
       "    }\n",
       "\n",
       "    .dataframe thead th {\n",
       "        text-align: right;\n",
       "    }\n",
       "</style>\n",
       "<table border=\"1\" class=\"dataframe\">\n",
       "  <thead>\n",
       "    <tr style=\"text-align: right;\">\n",
       "      <th></th>\n",
       "      <th>name</th>\n",
       "      <th>latitude</th>\n",
       "      <th>longitude</th>\n",
       "      <th>type</th>\n",
       "    </tr>\n",
       "  </thead>\n",
       "  <tbody>\n",
       "    <tr>\n",
       "      <th>0</th>\n",
       "      <td>Ci Yuan Hawker Centre</td>\n",
       "      <td>1.374938</td>\n",
       "      <td>103.882947</td>\n",
       "      <td>hawkercentre</td>\n",
       "    </tr>\n",
       "    <tr>\n",
       "      <th>1</th>\n",
       "      <td>West Coast Drive Blk 502 (Ayer Rajah Market)</td>\n",
       "      <td>1.311960</td>\n",
       "      <td>103.759102</td>\n",
       "      <td>hawkercentre</td>\n",
       "    </tr>\n",
       "    <tr>\n",
       "      <th>2</th>\n",
       "      <td>West Coast Drive Blk 503 (Ayer Rajah Food Centre)</td>\n",
       "      <td>1.311870</td>\n",
       "      <td>103.759804</td>\n",
       "      <td>hawkercentre</td>\n",
       "    </tr>\n",
       "    <tr>\n",
       "      <th>3</th>\n",
       "      <td>Bedok South Road Blk 16</td>\n",
       "      <td>1.320560</td>\n",
       "      <td>103.935547</td>\n",
       "      <td>hawkercentre</td>\n",
       "    </tr>\n",
       "    <tr>\n",
       "      <th>4</th>\n",
       "      <td>Pasir Ris Central Hawker Centre</td>\n",
       "      <td>1.373318</td>\n",
       "      <td>103.951364</td>\n",
       "      <td>hawkercentre</td>\n",
       "    </tr>\n",
       "  </tbody>\n",
       "</table>\n",
       "</div>"
      ],
      "text/plain": [
       "                                                name  latitude   longitude  \\\n",
       "0                              Ci Yuan Hawker Centre  1.374938  103.882947   \n",
       "1       West Coast Drive Blk 502 (Ayer Rajah Market)  1.311960  103.759102   \n",
       "2  West Coast Drive Blk 503 (Ayer Rajah Food Centre)  1.311870  103.759804   \n",
       "3                            Bedok South Road Blk 16  1.320560  103.935547   \n",
       "4                    Pasir Ris Central Hawker Centre  1.373318  103.951364   \n",
       "\n",
       "           type  \n",
       "0  hawkercentre  \n",
       "1  hawkercentre  \n",
       "2  hawkercentre  \n",
       "3  hawkercentre  \n",
       "4  hawkercentre  "
      ]
     },
     "execution_count": 3,
     "metadata": {},
     "output_type": "execute_result"
    }
   ],
   "source": [
    "hawkercentre = hawkercentre.rename(columns = {'Name': 'name', 'LATITUDE': 'latitude', 'LONGITUDE': 'longitude'})\n",
    "hawkercentre = hawkercentre.drop(columns = 'ADDRESSPOSTALCODE')\n",
    "hawkercentre['type'] = 'hawkercentre'\n",
    "hawkercentre.head(5)"
   ]
  },
  {
   "cell_type": "code",
   "execution_count": 4,
   "id": "89c922ad",
   "metadata": {},
   "outputs": [],
   "source": [
    "final_hawkercentre = hawkercentre\n",
    "final_hawkercentre.to_csv('final_hawkercentre.csv', index = False, sep = ',', encoding = 'utf-8')"
   ]
  },
  {
   "cell_type": "code",
   "execution_count": 5,
   "id": "455279c4",
   "metadata": {
    "scrolled": true
   },
   "outputs": [
    {
     "data": {
      "text/html": [
       "<div>\n",
       "<style scoped>\n",
       "    .dataframe tbody tr th:only-of-type {\n",
       "        vertical-align: middle;\n",
       "    }\n",
       "\n",
       "    .dataframe tbody tr th {\n",
       "        vertical-align: top;\n",
       "    }\n",
       "\n",
       "    .dataframe thead th {\n",
       "        text-align: right;\n",
       "    }\n",
       "</style>\n",
       "<table border=\"1\" class=\"dataframe\">\n",
       "  <thead>\n",
       "    <tr style=\"text-align: right;\">\n",
       "      <th></th>\n",
       "      <th>NAME</th>\n",
       "      <th>Longitude</th>\n",
       "      <th>Latitude</th>\n",
       "    </tr>\n",
       "  </thead>\n",
       "  <tbody>\n",
       "    <tr>\n",
       "      <th>0</th>\n",
       "      <td>Telok Ayer Green</td>\n",
       "      <td>103.847644</td>\n",
       "      <td>1.281465</td>\n",
       "    </tr>\n",
       "    <tr>\n",
       "      <th>1</th>\n",
       "      <td>Mayflower Crescent Playground</td>\n",
       "      <td>103.839569</td>\n",
       "      <td>1.372718</td>\n",
       "    </tr>\n",
       "    <tr>\n",
       "      <th>2</th>\n",
       "      <td>Sunrise Drive Playground 1</td>\n",
       "      <td>103.857370</td>\n",
       "      <td>1.388306</td>\n",
       "    </tr>\n",
       "    <tr>\n",
       "      <th>3</th>\n",
       "      <td>Elias Terrace Playground</td>\n",
       "      <td>103.941094</td>\n",
       "      <td>1.372190</td>\n",
       "    </tr>\n",
       "    <tr>\n",
       "      <th>4</th>\n",
       "      <td>Kew Avenue Playground</td>\n",
       "      <td>103.948451</td>\n",
       "      <td>1.321627</td>\n",
       "    </tr>\n",
       "  </tbody>\n",
       "</table>\n",
       "</div>"
      ],
      "text/plain": [
       "                            NAME   Longitude  Latitude\n",
       "0               Telok Ayer Green  103.847644  1.281465\n",
       "1  Mayflower Crescent Playground  103.839569  1.372718\n",
       "2     Sunrise Drive Playground 1  103.857370  1.388306\n",
       "3       Elias Terrace Playground  103.941094  1.372190\n",
       "4          Kew Avenue Playground  103.948451  1.321627"
      ]
     },
     "execution_count": 5,
     "metadata": {},
     "output_type": "execute_result"
    }
   ],
   "source": [
    "parks_playgrounds = pd.read_csv('parks_playgrounds.csv')\n",
    "parks_playgrounds.head(5)"
   ]
  },
  {
   "cell_type": "code",
   "execution_count": 6,
   "id": "68c8cc72",
   "metadata": {},
   "outputs": [
    {
     "data": {
      "text/html": [
       "<div>\n",
       "<style scoped>\n",
       "    .dataframe tbody tr th:only-of-type {\n",
       "        vertical-align: middle;\n",
       "    }\n",
       "\n",
       "    .dataframe tbody tr th {\n",
       "        vertical-align: top;\n",
       "    }\n",
       "\n",
       "    .dataframe thead th {\n",
       "        text-align: right;\n",
       "    }\n",
       "</style>\n",
       "<table border=\"1\" class=\"dataframe\">\n",
       "  <thead>\n",
       "    <tr style=\"text-align: right;\">\n",
       "      <th></th>\n",
       "      <th>name</th>\n",
       "      <th>longitude</th>\n",
       "      <th>latitude</th>\n",
       "      <th>type</th>\n",
       "    </tr>\n",
       "  </thead>\n",
       "  <tbody>\n",
       "    <tr>\n",
       "      <th>0</th>\n",
       "      <td>Telok Ayer Green</td>\n",
       "      <td>103.847644</td>\n",
       "      <td>1.281465</td>\n",
       "      <td>parks_playgrounds</td>\n",
       "    </tr>\n",
       "    <tr>\n",
       "      <th>1</th>\n",
       "      <td>Mayflower Crescent Playground</td>\n",
       "      <td>103.839569</td>\n",
       "      <td>1.372718</td>\n",
       "      <td>parks_playgrounds</td>\n",
       "    </tr>\n",
       "    <tr>\n",
       "      <th>2</th>\n",
       "      <td>Sunrise Drive Playground 1</td>\n",
       "      <td>103.857370</td>\n",
       "      <td>1.388306</td>\n",
       "      <td>parks_playgrounds</td>\n",
       "    </tr>\n",
       "    <tr>\n",
       "      <th>3</th>\n",
       "      <td>Elias Terrace Playground</td>\n",
       "      <td>103.941094</td>\n",
       "      <td>1.372190</td>\n",
       "      <td>parks_playgrounds</td>\n",
       "    </tr>\n",
       "    <tr>\n",
       "      <th>4</th>\n",
       "      <td>Kew Avenue Playground</td>\n",
       "      <td>103.948451</td>\n",
       "      <td>1.321627</td>\n",
       "      <td>parks_playgrounds</td>\n",
       "    </tr>\n",
       "  </tbody>\n",
       "</table>\n",
       "</div>"
      ],
      "text/plain": [
       "                            name   longitude  latitude               type\n",
       "0               Telok Ayer Green  103.847644  1.281465  parks_playgrounds\n",
       "1  Mayflower Crescent Playground  103.839569  1.372718  parks_playgrounds\n",
       "2     Sunrise Drive Playground 1  103.857370  1.388306  parks_playgrounds\n",
       "3       Elias Terrace Playground  103.941094  1.372190  parks_playgrounds\n",
       "4          Kew Avenue Playground  103.948451  1.321627  parks_playgrounds"
      ]
     },
     "execution_count": 6,
     "metadata": {},
     "output_type": "execute_result"
    }
   ],
   "source": [
    "parks_playgrounds = parks_playgrounds.rename(columns = {'NAME': 'name', 'Latitude': 'latitude', 'Longitude': 'longitude'})\n",
    "parks_playgrounds['type'] = 'parks_playgrounds'\n",
    "parks_playgrounds.head(5)"
   ]
  },
  {
   "cell_type": "code",
   "execution_count": 7,
   "id": "3bce261c",
   "metadata": {},
   "outputs": [],
   "source": [
    "final_parks_playgrounds = parks_playgrounds\n",
    "final_parks_playgrounds.to_csv('final_parks_playgrounds.csv', index = False, sep = ',', encoding = 'utf-8')"
   ]
  },
  {
   "cell_type": "code",
   "execution_count": 8,
   "id": "5b70c330",
   "metadata": {},
   "outputs": [
    {
     "data": {
      "text/html": [
       "<div>\n",
       "<style scoped>\n",
       "    .dataframe tbody tr th:only-of-type {\n",
       "        vertical-align: middle;\n",
       "    }\n",
       "\n",
       "    .dataframe tbody tr th {\n",
       "        vertical-align: top;\n",
       "    }\n",
       "\n",
       "    .dataframe thead th {\n",
       "        text-align: right;\n",
       "    }\n",
       "</style>\n",
       "<table border=\"1\" class=\"dataframe\">\n",
       "  <thead>\n",
       "    <tr style=\"text-align: right;\">\n",
       "      <th></th>\n",
       "      <th>LIC_NAME</th>\n",
       "      <th>STR_NAME</th>\n",
       "      <th>lng</th>\n",
       "      <th>lat</th>\n",
       "    </tr>\n",
       "  </thead>\n",
       "  <tbody>\n",
       "    <tr>\n",
       "      <th>0</th>\n",
       "      <td>LI LI CHENG SUPERMARKET (PUNGGOL) PTE. LTD.</td>\n",
       "      <td>PUNGGOL PLACE</td>\n",
       "      <td>103.901262</td>\n",
       "      <td>1.402303</td>\n",
       "    </tr>\n",
       "    <tr>\n",
       "      <th>1</th>\n",
       "      <td>SHENG SIONG SUPERMARKET PTE LTD</td>\n",
       "      <td>UPPER BOON KENG ROAD</td>\n",
       "      <td>103.870914</td>\n",
       "      <td>1.314239</td>\n",
       "    </tr>\n",
       "    <tr>\n",
       "      <th>2</th>\n",
       "      <td>COLD STORAGE SINGAPORE (1983) PTE LTD</td>\n",
       "      <td>HOUGANG AVENUE 8</td>\n",
       "      <td>103.886366</td>\n",
       "      <td>1.373321</td>\n",
       "    </tr>\n",
       "    <tr>\n",
       "      <th>3</th>\n",
       "      <td>COLD STORAGE SINGAPORE (1983) PTE LTD</td>\n",
       "      <td>BEDOK RESERVOIR ROAD</td>\n",
       "      <td>103.914942</td>\n",
       "      <td>1.332959</td>\n",
       "    </tr>\n",
       "    <tr>\n",
       "      <th>4</th>\n",
       "      <td>YES SUPERMARKET PTE LTD</td>\n",
       "      <td>TAMPINES STREET 21</td>\n",
       "      <td>103.953010</td>\n",
       "      <td>1.353453</td>\n",
       "    </tr>\n",
       "  </tbody>\n",
       "</table>\n",
       "</div>"
      ],
      "text/plain": [
       "                                      LIC_NAME              STR_NAME  \\\n",
       "0  LI LI CHENG SUPERMARKET (PUNGGOL) PTE. LTD.         PUNGGOL PLACE   \n",
       "1              SHENG SIONG SUPERMARKET PTE LTD  UPPER BOON KENG ROAD   \n",
       "2        COLD STORAGE SINGAPORE (1983) PTE LTD      HOUGANG AVENUE 8   \n",
       "3        COLD STORAGE SINGAPORE (1983) PTE LTD  BEDOK RESERVOIR ROAD   \n",
       "4                      YES SUPERMARKET PTE LTD    TAMPINES STREET 21   \n",
       "\n",
       "          lng       lat  \n",
       "0  103.901262  1.402303  \n",
       "1  103.870914  1.314239  \n",
       "2  103.886366  1.373321  \n",
       "3  103.914942  1.332959  \n",
       "4  103.953010  1.353453  "
      ]
     },
     "execution_count": 8,
     "metadata": {},
     "output_type": "execute_result"
    }
   ],
   "source": [
    "supermarket = pd.read_csv('supermarket.csv')\n",
    "supermarket.head(5)"
   ]
  },
  {
   "cell_type": "code",
   "execution_count": 9,
   "id": "e86115f6",
   "metadata": {},
   "outputs": [
    {
     "data": {
      "text/html": [
       "<div>\n",
       "<style scoped>\n",
       "    .dataframe tbody tr th:only-of-type {\n",
       "        vertical-align: middle;\n",
       "    }\n",
       "\n",
       "    .dataframe tbody tr th {\n",
       "        vertical-align: top;\n",
       "    }\n",
       "\n",
       "    .dataframe thead th {\n",
       "        text-align: right;\n",
       "    }\n",
       "</style>\n",
       "<table border=\"1\" class=\"dataframe\">\n",
       "  <thead>\n",
       "    <tr style=\"text-align: right;\">\n",
       "      <th></th>\n",
       "      <th>name</th>\n",
       "      <th>longitude</th>\n",
       "      <th>latitude</th>\n",
       "      <th>type</th>\n",
       "    </tr>\n",
       "  </thead>\n",
       "  <tbody>\n",
       "    <tr>\n",
       "      <th>0</th>\n",
       "      <td>LI LI CHENG SUPERMARKET (PUNGGOL) PTE. LTD.</td>\n",
       "      <td>103.901262</td>\n",
       "      <td>1.402303</td>\n",
       "      <td>supermarket</td>\n",
       "    </tr>\n",
       "    <tr>\n",
       "      <th>1</th>\n",
       "      <td>SHENG SIONG SUPERMARKET PTE LTD</td>\n",
       "      <td>103.870914</td>\n",
       "      <td>1.314239</td>\n",
       "      <td>supermarket</td>\n",
       "    </tr>\n",
       "    <tr>\n",
       "      <th>2</th>\n",
       "      <td>COLD STORAGE SINGAPORE (1983) PTE LTD</td>\n",
       "      <td>103.886366</td>\n",
       "      <td>1.373321</td>\n",
       "      <td>supermarket</td>\n",
       "    </tr>\n",
       "    <tr>\n",
       "      <th>3</th>\n",
       "      <td>COLD STORAGE SINGAPORE (1983) PTE LTD</td>\n",
       "      <td>103.914942</td>\n",
       "      <td>1.332959</td>\n",
       "      <td>supermarket</td>\n",
       "    </tr>\n",
       "    <tr>\n",
       "      <th>4</th>\n",
       "      <td>YES SUPERMARKET PTE LTD</td>\n",
       "      <td>103.953010</td>\n",
       "      <td>1.353453</td>\n",
       "      <td>supermarket</td>\n",
       "    </tr>\n",
       "  </tbody>\n",
       "</table>\n",
       "</div>"
      ],
      "text/plain": [
       "                                          name   longitude  latitude  \\\n",
       "0  LI LI CHENG SUPERMARKET (PUNGGOL) PTE. LTD.  103.901262  1.402303   \n",
       "1              SHENG SIONG SUPERMARKET PTE LTD  103.870914  1.314239   \n",
       "2        COLD STORAGE SINGAPORE (1983) PTE LTD  103.886366  1.373321   \n",
       "3        COLD STORAGE SINGAPORE (1983) PTE LTD  103.914942  1.332959   \n",
       "4                      YES SUPERMARKET PTE LTD  103.953010  1.353453   \n",
       "\n",
       "          type  \n",
       "0  supermarket  \n",
       "1  supermarket  \n",
       "2  supermarket  \n",
       "3  supermarket  \n",
       "4  supermarket  "
      ]
     },
     "execution_count": 9,
     "metadata": {},
     "output_type": "execute_result"
    }
   ],
   "source": [
    "supermarket = supermarket.rename(columns = {'LIC_NAME': 'name', 'lat': 'latitude', 'lng': 'longitude'})\n",
    "supermarket = supermarket.drop(columns = 'STR_NAME')\n",
    "supermarket['type'] = 'supermarket'\n",
    "supermarket.head(5)"
   ]
  },
  {
   "cell_type": "code",
   "execution_count": 10,
   "id": "226ec972",
   "metadata": {},
   "outputs": [],
   "source": [
    "final_supermarket = supermarket\n",
    "final_supermarket.to_csv('final_supermarket.csv', index = False, sep = ',', encoding = 'utf-8')"
   ]
  },
  {
   "cell_type": "markdown",
   "id": "d77657e8",
   "metadata": {},
   "source": []
  },
  {
   "cell_type": "markdown",
   "id": "fa88866d",
   "metadata": {},
   "source": []
  },
  {
   "cell_type": "code",
   "execution_count": 11,
   "id": "dbea36dd",
   "metadata": {},
   "outputs": [
    {
     "data": {
      "text/plain": [
       "name         118\n",
       "latitude     118\n",
       "longitude    118\n",
       "type         118\n",
       "dtype: int64"
      ]
     },
     "execution_count": 11,
     "metadata": {},
     "output_type": "execute_result"
    }
   ],
   "source": [
    "final_hawkercentre.count()"
   ]
  },
  {
   "cell_type": "code",
   "execution_count": 12,
   "id": "1dc45332",
   "metadata": {},
   "outputs": [
    {
     "data": {
      "text/plain": [
       "name         346\n",
       "longitude    346\n",
       "latitude     346\n",
       "type         346\n",
       "dtype: int64"
      ]
     },
     "execution_count": 12,
     "metadata": {},
     "output_type": "execute_result"
    }
   ],
   "source": [
    "final_parks_playgrounds.count()"
   ]
  },
  {
   "cell_type": "code",
   "execution_count": 13,
   "id": "c554f7aa",
   "metadata": {
    "scrolled": false
   },
   "outputs": [
    {
     "data": {
      "text/plain": [
       "name         526\n",
       "longitude    526\n",
       "latitude     526\n",
       "type         526\n",
       "dtype: int64"
      ]
     },
     "execution_count": 13,
     "metadata": {},
     "output_type": "execute_result"
    }
   ],
   "source": [
    "final_supermarket.count()"
   ]
  },
  {
   "cell_type": "code",
   "execution_count": 14,
   "id": "b1a3908f",
   "metadata": {},
   "outputs": [
    {
     "data": {
      "text/html": [
       "<div>\n",
       "<style scoped>\n",
       "    .dataframe tbody tr th:only-of-type {\n",
       "        vertical-align: middle;\n",
       "    }\n",
       "\n",
       "    .dataframe tbody tr th {\n",
       "        vertical-align: top;\n",
       "    }\n",
       "\n",
       "    .dataframe thead th {\n",
       "        text-align: right;\n",
       "    }\n",
       "</style>\n",
       "<table border=\"1\" class=\"dataframe\">\n",
       "  <thead>\n",
       "    <tr style=\"text-align: right;\">\n",
       "      <th></th>\n",
       "      <th>name</th>\n",
       "      <th>latitude</th>\n",
       "      <th>longitude</th>\n",
       "      <th>type</th>\n",
       "    </tr>\n",
       "  </thead>\n",
       "  <tbody>\n",
       "    <tr>\n",
       "      <th>0</th>\n",
       "      <td>Ci Yuan Hawker Centre</td>\n",
       "      <td>1.374938</td>\n",
       "      <td>103.882947</td>\n",
       "      <td>hawkercentre</td>\n",
       "    </tr>\n",
       "    <tr>\n",
       "      <th>1</th>\n",
       "      <td>West Coast Drive Blk 502 (Ayer Rajah Market)</td>\n",
       "      <td>1.311960</td>\n",
       "      <td>103.759102</td>\n",
       "      <td>hawkercentre</td>\n",
       "    </tr>\n",
       "    <tr>\n",
       "      <th>2</th>\n",
       "      <td>West Coast Drive Blk 503 (Ayer Rajah Food Centre)</td>\n",
       "      <td>1.311870</td>\n",
       "      <td>103.759804</td>\n",
       "      <td>hawkercentre</td>\n",
       "    </tr>\n",
       "    <tr>\n",
       "      <th>3</th>\n",
       "      <td>Bedok South Road Blk 16</td>\n",
       "      <td>1.320560</td>\n",
       "      <td>103.935547</td>\n",
       "      <td>hawkercentre</td>\n",
       "    </tr>\n",
       "    <tr>\n",
       "      <th>4</th>\n",
       "      <td>Pasir Ris Central Hawker Centre</td>\n",
       "      <td>1.373318</td>\n",
       "      <td>103.951364</td>\n",
       "      <td>hawkercentre</td>\n",
       "    </tr>\n",
       "  </tbody>\n",
       "</table>\n",
       "</div>"
      ],
      "text/plain": [
       "                                                name  latitude   longitude  \\\n",
       "0                              Ci Yuan Hawker Centre  1.374938  103.882947   \n",
       "1       West Coast Drive Blk 502 (Ayer Rajah Market)  1.311960  103.759102   \n",
       "2  West Coast Drive Blk 503 (Ayer Rajah Food Centre)  1.311870  103.759804   \n",
       "3                            Bedok South Road Blk 16  1.320560  103.935547   \n",
       "4                    Pasir Ris Central Hawker Centre  1.373318  103.951364   \n",
       "\n",
       "           type  \n",
       "0  hawkercentre  \n",
       "1  hawkercentre  \n",
       "2  hawkercentre  \n",
       "3  hawkercentre  \n",
       "4  hawkercentre  "
      ]
     },
     "execution_count": 14,
     "metadata": {},
     "output_type": "execute_result"
    }
   ],
   "source": [
    "combined_csv = pd.concat([final_hawkercentre, final_parks_playgrounds, final_supermarket], axis = 0)\n",
    "combined_csv.head()"
   ]
  },
  {
   "cell_type": "code",
   "execution_count": 15,
   "id": "f01082df",
   "metadata": {
    "scrolled": true
   },
   "outputs": [
    {
     "name": "stdout",
     "output_type": "stream",
     "text": [
      "<class 'pandas.core.frame.DataFrame'>\n",
      "Int64Index: 990 entries, 0 to 525\n",
      "Data columns (total 4 columns):\n",
      " #   Column     Non-Null Count  Dtype  \n",
      "---  ------     --------------  -----  \n",
      " 0   name       990 non-null    object \n",
      " 1   latitude   990 non-null    float64\n",
      " 2   longitude  990 non-null    float64\n",
      " 3   type       990 non-null    object \n",
      "dtypes: float64(2), object(2)\n",
      "memory usage: 38.7+ KB\n"
     ]
    }
   ],
   "source": [
    "combined_csv.info()"
   ]
  },
  {
   "cell_type": "code",
   "execution_count": 16,
   "id": "4bd6cbde",
   "metadata": {},
   "outputs": [],
   "source": [
    "combined_csv.to_csv('combined_csv.csv', index = False, sep = ',', encoding = 'utf-8')"
   ]
  }
 ],
 "metadata": {
  "kernelspec": {
   "display_name": "Python 3 (ipykernel)",
   "language": "python",
   "name": "python3"
  },
  "language_info": {
   "codemirror_mode": {
    "name": "ipython",
    "version": 3
   },
   "file_extension": ".py",
   "mimetype": "text/x-python",
   "name": "python",
   "nbconvert_exporter": "python",
   "pygments_lexer": "ipython3",
   "version": "3.9.7"
  }
 },
 "nbformat": 4,
 "nbformat_minor": 5
}
